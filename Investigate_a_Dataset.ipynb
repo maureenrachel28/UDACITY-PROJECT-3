{
 "cells": [
  {
   "cell_type": "markdown",
   "metadata": {},
   "source": [
    "\n",
    "# Project: Finding trends in the TMDb Dataset with respect to popularity and revenue collected\n",
    "\n",
    "## Table of Contents\n",
    "<ul>\n",
    "<li><a href=\"#desc\">DATASET DESCRIPTION</a></li>\n",
    "<li><a href=\"#ques\">Questions</a></li>\n",
    "<li><a href=\"#wrangling\">Data Wrangling</a></li>\n",
    "<li><a href=\"#cleaning\">DATA CLEANING</a></li>\n",
    "<li><a href=\"#eda\">Exploratory Data Analysis</a></li>\n",
    "<li><a href=\"#conclusions\">Conclusions</a></li>\n",
    "</ul>"
   ]
  },
  {
   "cell_type": "markdown",
   "metadata": {},
   "source": [
    "<a id='desc'></a>\n",
    "## DATASET DESCRIPTION\n",
    "\n",
    "# -Dataset: TMDb DATASET\n",
    "           This dataset contains infomation about 10,000 Movies collected from TMDb\n",
    "# -Features:\n",
    "    1.id: \n",
    "    Entry id.\n",
    "    2.imdb_id: \n",
    "    The movie's imdb id.\n",
    "    3.popularity:\n",
    "    Popularity of the movie determined by user interactions.\n",
    "    4.budget:\n",
    "    The budget of the movie.\n",
    "    5.revenue:\n",
    "    Revenue collected.\n",
    "    6.original_title: \n",
    "    Title of the movie at the time of entry.\n",
    "    7.cast: \n",
    "    The cast,a list of actresses and actors seperated by |\n",
    "    8.homepage:\n",
    "    Contains the official webpage of the movie in question.\n",
    "    9.director: \n",
    "    The name of the director of the movie.\n",
    "    10.tagline: \n",
    "    The tagline of the movie.\n",
    "    11.keywords:\n",
    "    Keywords used by the movie.\n",
    "    12.overview: \n",
    "    The overview of the movie.\n",
    "    13.runtime:\n",
    "    Duration in minutes.\n",
    "    14.genres:\n",
    "    A list of genres asssociated with the movie seperated by |\n",
    "    15.production_companies:\n",
    "    The prodution companies involved with the movie.\n",
    "    16.release_date:\n",
    "    The releaxe date of the movie.\n",
    "    17.vote_count:\n",
    "    The number of users voted.\n",
    "    18.vote_average: \n",
    "    The rating calculated by means of weigted average.\n",
    "    19.release_year:\n",
    "    The year of release.\n",
    "    20.budget_adj: \n",
    "    The budget of the movie in terms of 2010 dollars accounting for inflation over time.\n",
    "    21.revenue_adj: \n",
    "        The revenue of the movie in terms of 2010 dollars accounting for inflation over time\n"
   ]
  },
  {
   "cell_type": "markdown",
   "metadata": {
    "collapsed": true
   },
   "source": [
    "<a id='ques'></a>\n",
    "## QUESTIONS:\n",
    " \n",
    "    1.Which movie had the highest and least revenue?\n",
    "    2.Which movie has the highest and least ratings?\n",
    "    3.Which movie has the highest and least popularity?\n",
    "    4.Which movie had the highest and least budget?\n",
    "    5.Which actors have been associated with the movies that earned the most revenue?\n",
    "    6.Which genres have been associated with the movies that earned the most revenue?\n",
    "    7.which production companies have been associated with the movies that earned the most revenue?\n",
    "    8.Which production companies invest the highest in their budgets?\n"
   ]
  },
  {
   "cell_type": "code",
   "execution_count": 50,
   "metadata": {},
   "outputs": [],
   "source": [
    "#import statements\n",
    "import pandas as pd\n",
    "import numpy as np\n",
    "import matplotlib.pyplot as plt\n",
    "% matplotlib inline\n"
   ]
  },
  {
   "cell_type": "markdown",
   "metadata": {},
   "source": [
    "<a id='wrangling'></a>\n",
    "## Data Wrangling\n",
    "    Exploring the dataset"
   ]
  },
  {
   "cell_type": "code",
   "execution_count": 51,
   "metadata": {},
   "outputs": [],
   "source": [
    "#Reading the csv file\n",
    "df=pd.read_csv('tmdb-movies.csv')\n"
   ]
  },
  {
   "cell_type": "code",
   "execution_count": 52,
   "metadata": {},
   "outputs": [
    {
     "data": {
      "text/html": [
       "<div>\n",
       "<style scoped>\n",
       "    .dataframe tbody tr th:only-of-type {\n",
       "        vertical-align: middle;\n",
       "    }\n",
       "\n",
       "    .dataframe tbody tr th {\n",
       "        vertical-align: top;\n",
       "    }\n",
       "\n",
       "    .dataframe thead th {\n",
       "        text-align: right;\n",
       "    }\n",
       "</style>\n",
       "<table border=\"1\" class=\"dataframe\">\n",
       "  <thead>\n",
       "    <tr style=\"text-align: right;\">\n",
       "      <th></th>\n",
       "      <th>id</th>\n",
       "      <th>imdb_id</th>\n",
       "      <th>popularity</th>\n",
       "      <th>budget</th>\n",
       "      <th>revenue</th>\n",
       "      <th>original_title</th>\n",
       "      <th>cast</th>\n",
       "      <th>homepage</th>\n",
       "      <th>director</th>\n",
       "      <th>tagline</th>\n",
       "      <th>...</th>\n",
       "      <th>overview</th>\n",
       "      <th>runtime</th>\n",
       "      <th>genres</th>\n",
       "      <th>production_companies</th>\n",
       "      <th>release_date</th>\n",
       "      <th>vote_count</th>\n",
       "      <th>vote_average</th>\n",
       "      <th>release_year</th>\n",
       "      <th>budget_adj</th>\n",
       "      <th>revenue_adj</th>\n",
       "    </tr>\n",
       "  </thead>\n",
       "  <tbody>\n",
       "    <tr>\n",
       "      <th>0</th>\n",
       "      <td>135397</td>\n",
       "      <td>tt0369610</td>\n",
       "      <td>32.985763</td>\n",
       "      <td>150000000</td>\n",
       "      <td>1513528810</td>\n",
       "      <td>Jurassic World</td>\n",
       "      <td>Chris Pratt|Bryce Dallas Howard|Irrfan Khan|Vi...</td>\n",
       "      <td>http://www.jurassicworld.com/</td>\n",
       "      <td>Colin Trevorrow</td>\n",
       "      <td>The park is open.</td>\n",
       "      <td>...</td>\n",
       "      <td>Twenty-two years after the events of Jurassic ...</td>\n",
       "      <td>124</td>\n",
       "      <td>Action|Adventure|Science Fiction|Thriller</td>\n",
       "      <td>Universal Studios|Amblin Entertainment|Legenda...</td>\n",
       "      <td>6/9/15</td>\n",
       "      <td>5562</td>\n",
       "      <td>6.5</td>\n",
       "      <td>2015</td>\n",
       "      <td>1.379999e+08</td>\n",
       "      <td>1.392446e+09</td>\n",
       "    </tr>\n",
       "    <tr>\n",
       "      <th>1</th>\n",
       "      <td>76341</td>\n",
       "      <td>tt1392190</td>\n",
       "      <td>28.419936</td>\n",
       "      <td>150000000</td>\n",
       "      <td>378436354</td>\n",
       "      <td>Mad Max: Fury Road</td>\n",
       "      <td>Tom Hardy|Charlize Theron|Hugh Keays-Byrne|Nic...</td>\n",
       "      <td>http://www.madmaxmovie.com/</td>\n",
       "      <td>George Miller</td>\n",
       "      <td>What a Lovely Day.</td>\n",
       "      <td>...</td>\n",
       "      <td>An apocalyptic story set in the furthest reach...</td>\n",
       "      <td>120</td>\n",
       "      <td>Action|Adventure|Science Fiction|Thriller</td>\n",
       "      <td>Village Roadshow Pictures|Kennedy Miller Produ...</td>\n",
       "      <td>5/13/15</td>\n",
       "      <td>6185</td>\n",
       "      <td>7.1</td>\n",
       "      <td>2015</td>\n",
       "      <td>1.379999e+08</td>\n",
       "      <td>3.481613e+08</td>\n",
       "    </tr>\n",
       "    <tr>\n",
       "      <th>2</th>\n",
       "      <td>262500</td>\n",
       "      <td>tt2908446</td>\n",
       "      <td>13.112507</td>\n",
       "      <td>110000000</td>\n",
       "      <td>295238201</td>\n",
       "      <td>Insurgent</td>\n",
       "      <td>Shailene Woodley|Theo James|Kate Winslet|Ansel...</td>\n",
       "      <td>http://www.thedivergentseries.movie/#insurgent</td>\n",
       "      <td>Robert Schwentke</td>\n",
       "      <td>One Choice Can Destroy You</td>\n",
       "      <td>...</td>\n",
       "      <td>Beatrice Prior must confront her inner demons ...</td>\n",
       "      <td>119</td>\n",
       "      <td>Adventure|Science Fiction|Thriller</td>\n",
       "      <td>Summit Entertainment|Mandeville Films|Red Wago...</td>\n",
       "      <td>3/18/15</td>\n",
       "      <td>2480</td>\n",
       "      <td>6.3</td>\n",
       "      <td>2015</td>\n",
       "      <td>1.012000e+08</td>\n",
       "      <td>2.716190e+08</td>\n",
       "    </tr>\n",
       "    <tr>\n",
       "      <th>3</th>\n",
       "      <td>140607</td>\n",
       "      <td>tt2488496</td>\n",
       "      <td>11.173104</td>\n",
       "      <td>200000000</td>\n",
       "      <td>2068178225</td>\n",
       "      <td>Star Wars: The Force Awakens</td>\n",
       "      <td>Harrison Ford|Mark Hamill|Carrie Fisher|Adam D...</td>\n",
       "      <td>http://www.starwars.com/films/star-wars-episod...</td>\n",
       "      <td>J.J. Abrams</td>\n",
       "      <td>Every generation has a story.</td>\n",
       "      <td>...</td>\n",
       "      <td>Thirty years after defeating the Galactic Empi...</td>\n",
       "      <td>136</td>\n",
       "      <td>Action|Adventure|Science Fiction|Fantasy</td>\n",
       "      <td>Lucasfilm|Truenorth Productions|Bad Robot</td>\n",
       "      <td>12/15/15</td>\n",
       "      <td>5292</td>\n",
       "      <td>7.5</td>\n",
       "      <td>2015</td>\n",
       "      <td>1.839999e+08</td>\n",
       "      <td>1.902723e+09</td>\n",
       "    </tr>\n",
       "    <tr>\n",
       "      <th>4</th>\n",
       "      <td>168259</td>\n",
       "      <td>tt2820852</td>\n",
       "      <td>9.335014</td>\n",
       "      <td>190000000</td>\n",
       "      <td>1506249360</td>\n",
       "      <td>Furious 7</td>\n",
       "      <td>Vin Diesel|Paul Walker|Jason Statham|Michelle ...</td>\n",
       "      <td>http://www.furious7.com/</td>\n",
       "      <td>James Wan</td>\n",
       "      <td>Vengeance Hits Home</td>\n",
       "      <td>...</td>\n",
       "      <td>Deckard Shaw seeks revenge against Dominic Tor...</td>\n",
       "      <td>137</td>\n",
       "      <td>Action|Crime|Thriller</td>\n",
       "      <td>Universal Pictures|Original Film|Media Rights ...</td>\n",
       "      <td>4/1/15</td>\n",
       "      <td>2947</td>\n",
       "      <td>7.3</td>\n",
       "      <td>2015</td>\n",
       "      <td>1.747999e+08</td>\n",
       "      <td>1.385749e+09</td>\n",
       "    </tr>\n",
       "  </tbody>\n",
       "</table>\n",
       "<p>5 rows × 21 columns</p>\n",
       "</div>"
      ],
      "text/plain": [
       "       id    imdb_id  popularity     budget     revenue  \\\n",
       "0  135397  tt0369610   32.985763  150000000  1513528810   \n",
       "1   76341  tt1392190   28.419936  150000000   378436354   \n",
       "2  262500  tt2908446   13.112507  110000000   295238201   \n",
       "3  140607  tt2488496   11.173104  200000000  2068178225   \n",
       "4  168259  tt2820852    9.335014  190000000  1506249360   \n",
       "\n",
       "                 original_title  \\\n",
       "0                Jurassic World   \n",
       "1            Mad Max: Fury Road   \n",
       "2                     Insurgent   \n",
       "3  Star Wars: The Force Awakens   \n",
       "4                     Furious 7   \n",
       "\n",
       "                                                cast  \\\n",
       "0  Chris Pratt|Bryce Dallas Howard|Irrfan Khan|Vi...   \n",
       "1  Tom Hardy|Charlize Theron|Hugh Keays-Byrne|Nic...   \n",
       "2  Shailene Woodley|Theo James|Kate Winslet|Ansel...   \n",
       "3  Harrison Ford|Mark Hamill|Carrie Fisher|Adam D...   \n",
       "4  Vin Diesel|Paul Walker|Jason Statham|Michelle ...   \n",
       "\n",
       "                                            homepage          director  \\\n",
       "0                      http://www.jurassicworld.com/   Colin Trevorrow   \n",
       "1                        http://www.madmaxmovie.com/     George Miller   \n",
       "2     http://www.thedivergentseries.movie/#insurgent  Robert Schwentke   \n",
       "3  http://www.starwars.com/films/star-wars-episod...       J.J. Abrams   \n",
       "4                           http://www.furious7.com/         James Wan   \n",
       "\n",
       "                         tagline      ...       \\\n",
       "0              The park is open.      ...        \n",
       "1             What a Lovely Day.      ...        \n",
       "2     One Choice Can Destroy You      ...        \n",
       "3  Every generation has a story.      ...        \n",
       "4            Vengeance Hits Home      ...        \n",
       "\n",
       "                                            overview runtime  \\\n",
       "0  Twenty-two years after the events of Jurassic ...     124   \n",
       "1  An apocalyptic story set in the furthest reach...     120   \n",
       "2  Beatrice Prior must confront her inner demons ...     119   \n",
       "3  Thirty years after defeating the Galactic Empi...     136   \n",
       "4  Deckard Shaw seeks revenge against Dominic Tor...     137   \n",
       "\n",
       "                                      genres  \\\n",
       "0  Action|Adventure|Science Fiction|Thriller   \n",
       "1  Action|Adventure|Science Fiction|Thriller   \n",
       "2         Adventure|Science Fiction|Thriller   \n",
       "3   Action|Adventure|Science Fiction|Fantasy   \n",
       "4                      Action|Crime|Thriller   \n",
       "\n",
       "                                production_companies release_date vote_count  \\\n",
       "0  Universal Studios|Amblin Entertainment|Legenda...       6/9/15       5562   \n",
       "1  Village Roadshow Pictures|Kennedy Miller Produ...      5/13/15       6185   \n",
       "2  Summit Entertainment|Mandeville Films|Red Wago...      3/18/15       2480   \n",
       "3          Lucasfilm|Truenorth Productions|Bad Robot     12/15/15       5292   \n",
       "4  Universal Pictures|Original Film|Media Rights ...       4/1/15       2947   \n",
       "\n",
       "   vote_average  release_year    budget_adj   revenue_adj  \n",
       "0           6.5          2015  1.379999e+08  1.392446e+09  \n",
       "1           7.1          2015  1.379999e+08  3.481613e+08  \n",
       "2           6.3          2015  1.012000e+08  2.716190e+08  \n",
       "3           7.5          2015  1.839999e+08  1.902723e+09  \n",
       "4           7.3          2015  1.747999e+08  1.385749e+09  \n",
       "\n",
       "[5 rows x 21 columns]"
      ]
     },
     "execution_count": 52,
     "metadata": {},
     "output_type": "execute_result"
    }
   ],
   "source": [
    "#Taking a look at the original dataset\n",
    "df.head()"
   ]
  },
  {
   "cell_type": "code",
   "execution_count": 53,
   "metadata": {},
   "outputs": [
    {
     "data": {
      "text/plain": [
       "(10866, 21)"
      ]
     },
     "execution_count": 53,
     "metadata": {},
     "output_type": "execute_result"
    }
   ],
   "source": [
    "#Number of entries\n",
    "df.shape"
   ]
  },
  {
   "cell_type": "markdown",
   "metadata": {},
   "source": [
    "    There are a total of 10866 data points along with 21 columns"
   ]
  },
  {
   "cell_type": "code",
   "execution_count": 54,
   "metadata": {},
   "outputs": [
    {
     "name": "stdout",
     "output_type": "stream",
     "text": [
      "<class 'pandas.core.frame.DataFrame'>\n",
      "RangeIndex: 10866 entries, 0 to 10865\n",
      "Data columns (total 21 columns):\n",
      "id                      10866 non-null int64\n",
      "imdb_id                 10856 non-null object\n",
      "popularity              10866 non-null float64\n",
      "budget                  10866 non-null int64\n",
      "revenue                 10866 non-null int64\n",
      "original_title          10866 non-null object\n",
      "cast                    10790 non-null object\n",
      "homepage                2936 non-null object\n",
      "director                10822 non-null object\n",
      "tagline                 8042 non-null object\n",
      "keywords                9373 non-null object\n",
      "overview                10862 non-null object\n",
      "runtime                 10866 non-null int64\n",
      "genres                  10843 non-null object\n",
      "production_companies    9836 non-null object\n",
      "release_date            10866 non-null object\n",
      "vote_count              10866 non-null int64\n",
      "vote_average            10866 non-null float64\n",
      "release_year            10866 non-null int64\n",
      "budget_adj              10866 non-null float64\n",
      "revenue_adj             10866 non-null float64\n",
      "dtypes: float64(4), int64(6), object(11)\n",
      "memory usage: 1.7+ MB\n"
     ]
    }
   ],
   "source": [
    "#Checking the dataset for missing values\n",
    "df.info()"
   ]
  },
  {
   "cell_type": "markdown",
   "metadata": {},
   "source": [
    "    The columns that have missing values are the following: imdb_id,cast,homepage,director,tagline,keywords,overview,genres,production_companies."
   ]
  },
  {
   "cell_type": "code",
   "execution_count": 55,
   "metadata": {},
   "outputs": [
    {
     "data": {
      "text/plain": [
       "1"
      ]
     },
     "execution_count": 55,
     "metadata": {},
     "output_type": "execute_result"
    }
   ],
   "source": [
    "#Checking the dataset for duplicates\n",
    "df.duplicated().sum()"
   ]
  },
  {
   "cell_type": "markdown",
   "metadata": {},
   "source": [
    "    There appears to be one duplicated row in the dataset"
   ]
  },
  {
   "cell_type": "code",
   "execution_count": 56,
   "metadata": {},
   "outputs": [
    {
     "data": {
      "text/html": [
       "<div>\n",
       "<style scoped>\n",
       "    .dataframe tbody tr th:only-of-type {\n",
       "        vertical-align: middle;\n",
       "    }\n",
       "\n",
       "    .dataframe tbody tr th {\n",
       "        vertical-align: top;\n",
       "    }\n",
       "\n",
       "    .dataframe thead th {\n",
       "        text-align: right;\n",
       "    }\n",
       "</style>\n",
       "<table border=\"1\" class=\"dataframe\">\n",
       "  <thead>\n",
       "    <tr style=\"text-align: right;\">\n",
       "      <th></th>\n",
       "      <th>id</th>\n",
       "      <th>popularity</th>\n",
       "      <th>budget</th>\n",
       "      <th>revenue</th>\n",
       "      <th>runtime</th>\n",
       "      <th>vote_count</th>\n",
       "      <th>vote_average</th>\n",
       "      <th>release_year</th>\n",
       "      <th>budget_adj</th>\n",
       "      <th>revenue_adj</th>\n",
       "    </tr>\n",
       "  </thead>\n",
       "  <tbody>\n",
       "    <tr>\n",
       "      <th>count</th>\n",
       "      <td>10866.000000</td>\n",
       "      <td>10866.000000</td>\n",
       "      <td>1.086600e+04</td>\n",
       "      <td>1.086600e+04</td>\n",
       "      <td>10866.000000</td>\n",
       "      <td>10866.000000</td>\n",
       "      <td>10866.000000</td>\n",
       "      <td>10866.000000</td>\n",
       "      <td>1.086600e+04</td>\n",
       "      <td>1.086600e+04</td>\n",
       "    </tr>\n",
       "    <tr>\n",
       "      <th>mean</th>\n",
       "      <td>66064.177434</td>\n",
       "      <td>0.646441</td>\n",
       "      <td>1.462570e+07</td>\n",
       "      <td>3.982332e+07</td>\n",
       "      <td>102.070863</td>\n",
       "      <td>217.389748</td>\n",
       "      <td>5.974922</td>\n",
       "      <td>2001.322658</td>\n",
       "      <td>1.755104e+07</td>\n",
       "      <td>5.136436e+07</td>\n",
       "    </tr>\n",
       "    <tr>\n",
       "      <th>std</th>\n",
       "      <td>92130.136561</td>\n",
       "      <td>1.000185</td>\n",
       "      <td>3.091321e+07</td>\n",
       "      <td>1.170035e+08</td>\n",
       "      <td>31.381405</td>\n",
       "      <td>575.619058</td>\n",
       "      <td>0.935142</td>\n",
       "      <td>12.812941</td>\n",
       "      <td>3.430616e+07</td>\n",
       "      <td>1.446325e+08</td>\n",
       "    </tr>\n",
       "    <tr>\n",
       "      <th>min</th>\n",
       "      <td>5.000000</td>\n",
       "      <td>0.000065</td>\n",
       "      <td>0.000000e+00</td>\n",
       "      <td>0.000000e+00</td>\n",
       "      <td>0.000000</td>\n",
       "      <td>10.000000</td>\n",
       "      <td>1.500000</td>\n",
       "      <td>1960.000000</td>\n",
       "      <td>0.000000e+00</td>\n",
       "      <td>0.000000e+00</td>\n",
       "    </tr>\n",
       "    <tr>\n",
       "      <th>25%</th>\n",
       "      <td>10596.250000</td>\n",
       "      <td>0.207583</td>\n",
       "      <td>0.000000e+00</td>\n",
       "      <td>0.000000e+00</td>\n",
       "      <td>90.000000</td>\n",
       "      <td>17.000000</td>\n",
       "      <td>5.400000</td>\n",
       "      <td>1995.000000</td>\n",
       "      <td>0.000000e+00</td>\n",
       "      <td>0.000000e+00</td>\n",
       "    </tr>\n",
       "    <tr>\n",
       "      <th>50%</th>\n",
       "      <td>20669.000000</td>\n",
       "      <td>0.383856</td>\n",
       "      <td>0.000000e+00</td>\n",
       "      <td>0.000000e+00</td>\n",
       "      <td>99.000000</td>\n",
       "      <td>38.000000</td>\n",
       "      <td>6.000000</td>\n",
       "      <td>2006.000000</td>\n",
       "      <td>0.000000e+00</td>\n",
       "      <td>0.000000e+00</td>\n",
       "    </tr>\n",
       "    <tr>\n",
       "      <th>75%</th>\n",
       "      <td>75610.000000</td>\n",
       "      <td>0.713817</td>\n",
       "      <td>1.500000e+07</td>\n",
       "      <td>2.400000e+07</td>\n",
       "      <td>111.000000</td>\n",
       "      <td>145.750000</td>\n",
       "      <td>6.600000</td>\n",
       "      <td>2011.000000</td>\n",
       "      <td>2.085325e+07</td>\n",
       "      <td>3.369710e+07</td>\n",
       "    </tr>\n",
       "    <tr>\n",
       "      <th>max</th>\n",
       "      <td>417859.000000</td>\n",
       "      <td>32.985763</td>\n",
       "      <td>4.250000e+08</td>\n",
       "      <td>2.781506e+09</td>\n",
       "      <td>900.000000</td>\n",
       "      <td>9767.000000</td>\n",
       "      <td>9.200000</td>\n",
       "      <td>2015.000000</td>\n",
       "      <td>4.250000e+08</td>\n",
       "      <td>2.827124e+09</td>\n",
       "    </tr>\n",
       "  </tbody>\n",
       "</table>\n",
       "</div>"
      ],
      "text/plain": [
       "                  id    popularity        budget       revenue       runtime  \\\n",
       "count   10866.000000  10866.000000  1.086600e+04  1.086600e+04  10866.000000   \n",
       "mean    66064.177434      0.646441  1.462570e+07  3.982332e+07    102.070863   \n",
       "std     92130.136561      1.000185  3.091321e+07  1.170035e+08     31.381405   \n",
       "min         5.000000      0.000065  0.000000e+00  0.000000e+00      0.000000   \n",
       "25%     10596.250000      0.207583  0.000000e+00  0.000000e+00     90.000000   \n",
       "50%     20669.000000      0.383856  0.000000e+00  0.000000e+00     99.000000   \n",
       "75%     75610.000000      0.713817  1.500000e+07  2.400000e+07    111.000000   \n",
       "max    417859.000000     32.985763  4.250000e+08  2.781506e+09    900.000000   \n",
       "\n",
       "         vote_count  vote_average  release_year    budget_adj   revenue_adj  \n",
       "count  10866.000000  10866.000000  10866.000000  1.086600e+04  1.086600e+04  \n",
       "mean     217.389748      5.974922   2001.322658  1.755104e+07  5.136436e+07  \n",
       "std      575.619058      0.935142     12.812941  3.430616e+07  1.446325e+08  \n",
       "min       10.000000      1.500000   1960.000000  0.000000e+00  0.000000e+00  \n",
       "25%       17.000000      5.400000   1995.000000  0.000000e+00  0.000000e+00  \n",
       "50%       38.000000      6.000000   2006.000000  0.000000e+00  0.000000e+00  \n",
       "75%      145.750000      6.600000   2011.000000  2.085325e+07  3.369710e+07  \n",
       "max     9767.000000      9.200000   2015.000000  4.250000e+08  2.827124e+09  "
      ]
     },
     "execution_count": 56,
     "metadata": {},
     "output_type": "execute_result"
    }
   ],
   "source": [
    "#Statistical Description of the dataset\n",
    "df.describe()"
   ]
  },
  {
   "cell_type": "markdown",
   "metadata": {},
   "source": [
    "    - From these statistics we can see that there are rows where the budget and revenue are zero. This will not be useful  for our analysis so we will remove these rows in the cleaning phase.\n",
    "    -We will also remove the rows that we do not need for our analysis: imdb_id,overview,runtime,release_date,tagline,director,vote_count,budget and revenue.\n",
    "    -Since we have the budget_adj and the revenue_adj to account for the respective in 2010 dollars we can remove the budget and the revenue columns.\n",
    "    "
   ]
  },
  {
   "cell_type": "markdown",
   "metadata": {},
   "source": [
    "<a id='cleaning'></a>\n",
    "## DATA CLEANING"
   ]
  },
  {
   "cell_type": "code",
   "execution_count": 57,
   "metadata": {},
   "outputs": [],
   "source": [
    "#Deleting the duplicate rows\n",
    "df.drop_duplicates(inplace=True)"
   ]
  },
  {
   "cell_type": "code",
   "execution_count": 58,
   "metadata": {},
   "outputs": [
    {
     "data": {
      "text/plain": [
       "0"
      ]
     },
     "execution_count": 58,
     "metadata": {},
     "output_type": "execute_result"
    }
   ],
   "source": [
    "#Checking for duplicates again\n",
    "df.duplicated().sum()"
   ]
  },
  {
   "cell_type": "code",
   "execution_count": 59,
   "metadata": {},
   "outputs": [],
   "source": [
    "#1.Dropping the unneccessary columns\n",
    "df.drop(['id','imdb_id','budget','revenue','overview','homepage','director','tagline','keywords','release_date','runtime','vote_count'], axis=1, inplace=True)"
   ]
  },
  {
   "cell_type": "code",
   "execution_count": 60,
   "metadata": {},
   "outputs": [
    {
     "data": {
      "text/html": [
       "<div>\n",
       "<style scoped>\n",
       "    .dataframe tbody tr th:only-of-type {\n",
       "        vertical-align: middle;\n",
       "    }\n",
       "\n",
       "    .dataframe tbody tr th {\n",
       "        vertical-align: top;\n",
       "    }\n",
       "\n",
       "    .dataframe thead th {\n",
       "        text-align: right;\n",
       "    }\n",
       "</style>\n",
       "<table border=\"1\" class=\"dataframe\">\n",
       "  <thead>\n",
       "    <tr style=\"text-align: right;\">\n",
       "      <th></th>\n",
       "      <th>popularity</th>\n",
       "      <th>original_title</th>\n",
       "      <th>cast</th>\n",
       "      <th>genres</th>\n",
       "      <th>production_companies</th>\n",
       "      <th>vote_average</th>\n",
       "      <th>release_year</th>\n",
       "      <th>budget_adj</th>\n",
       "      <th>revenue_adj</th>\n",
       "    </tr>\n",
       "  </thead>\n",
       "  <tbody>\n",
       "    <tr>\n",
       "      <th>0</th>\n",
       "      <td>32.985763</td>\n",
       "      <td>Jurassic World</td>\n",
       "      <td>Chris Pratt|Bryce Dallas Howard|Irrfan Khan|Vi...</td>\n",
       "      <td>Action|Adventure|Science Fiction|Thriller</td>\n",
       "      <td>Universal Studios|Amblin Entertainment|Legenda...</td>\n",
       "      <td>6.5</td>\n",
       "      <td>2015</td>\n",
       "      <td>1.379999e+08</td>\n",
       "      <td>1.392446e+09</td>\n",
       "    </tr>\n",
       "    <tr>\n",
       "      <th>1</th>\n",
       "      <td>28.419936</td>\n",
       "      <td>Mad Max: Fury Road</td>\n",
       "      <td>Tom Hardy|Charlize Theron|Hugh Keays-Byrne|Nic...</td>\n",
       "      <td>Action|Adventure|Science Fiction|Thriller</td>\n",
       "      <td>Village Roadshow Pictures|Kennedy Miller Produ...</td>\n",
       "      <td>7.1</td>\n",
       "      <td>2015</td>\n",
       "      <td>1.379999e+08</td>\n",
       "      <td>3.481613e+08</td>\n",
       "    </tr>\n",
       "    <tr>\n",
       "      <th>2</th>\n",
       "      <td>13.112507</td>\n",
       "      <td>Insurgent</td>\n",
       "      <td>Shailene Woodley|Theo James|Kate Winslet|Ansel...</td>\n",
       "      <td>Adventure|Science Fiction|Thriller</td>\n",
       "      <td>Summit Entertainment|Mandeville Films|Red Wago...</td>\n",
       "      <td>6.3</td>\n",
       "      <td>2015</td>\n",
       "      <td>1.012000e+08</td>\n",
       "      <td>2.716190e+08</td>\n",
       "    </tr>\n",
       "    <tr>\n",
       "      <th>3</th>\n",
       "      <td>11.173104</td>\n",
       "      <td>Star Wars: The Force Awakens</td>\n",
       "      <td>Harrison Ford|Mark Hamill|Carrie Fisher|Adam D...</td>\n",
       "      <td>Action|Adventure|Science Fiction|Fantasy</td>\n",
       "      <td>Lucasfilm|Truenorth Productions|Bad Robot</td>\n",
       "      <td>7.5</td>\n",
       "      <td>2015</td>\n",
       "      <td>1.839999e+08</td>\n",
       "      <td>1.902723e+09</td>\n",
       "    </tr>\n",
       "    <tr>\n",
       "      <th>4</th>\n",
       "      <td>9.335014</td>\n",
       "      <td>Furious 7</td>\n",
       "      <td>Vin Diesel|Paul Walker|Jason Statham|Michelle ...</td>\n",
       "      <td>Action|Crime|Thriller</td>\n",
       "      <td>Universal Pictures|Original Film|Media Rights ...</td>\n",
       "      <td>7.3</td>\n",
       "      <td>2015</td>\n",
       "      <td>1.747999e+08</td>\n",
       "      <td>1.385749e+09</td>\n",
       "    </tr>\n",
       "  </tbody>\n",
       "</table>\n",
       "</div>"
      ],
      "text/plain": [
       "   popularity                original_title  \\\n",
       "0   32.985763                Jurassic World   \n",
       "1   28.419936            Mad Max: Fury Road   \n",
       "2   13.112507                     Insurgent   \n",
       "3   11.173104  Star Wars: The Force Awakens   \n",
       "4    9.335014                     Furious 7   \n",
       "\n",
       "                                                cast  \\\n",
       "0  Chris Pratt|Bryce Dallas Howard|Irrfan Khan|Vi...   \n",
       "1  Tom Hardy|Charlize Theron|Hugh Keays-Byrne|Nic...   \n",
       "2  Shailene Woodley|Theo James|Kate Winslet|Ansel...   \n",
       "3  Harrison Ford|Mark Hamill|Carrie Fisher|Adam D...   \n",
       "4  Vin Diesel|Paul Walker|Jason Statham|Michelle ...   \n",
       "\n",
       "                                      genres  \\\n",
       "0  Action|Adventure|Science Fiction|Thriller   \n",
       "1  Action|Adventure|Science Fiction|Thriller   \n",
       "2         Adventure|Science Fiction|Thriller   \n",
       "3   Action|Adventure|Science Fiction|Fantasy   \n",
       "4                      Action|Crime|Thriller   \n",
       "\n",
       "                                production_companies  vote_average  \\\n",
       "0  Universal Studios|Amblin Entertainment|Legenda...           6.5   \n",
       "1  Village Roadshow Pictures|Kennedy Miller Produ...           7.1   \n",
       "2  Summit Entertainment|Mandeville Films|Red Wago...           6.3   \n",
       "3          Lucasfilm|Truenorth Productions|Bad Robot           7.5   \n",
       "4  Universal Pictures|Original Film|Media Rights ...           7.3   \n",
       "\n",
       "   release_year    budget_adj   revenue_adj  \n",
       "0          2015  1.379999e+08  1.392446e+09  \n",
       "1          2015  1.379999e+08  3.481613e+08  \n",
       "2          2015  1.012000e+08  2.716190e+08  \n",
       "3          2015  1.839999e+08  1.902723e+09  \n",
       "4          2015  1.747999e+08  1.385749e+09  "
      ]
     },
     "execution_count": 60,
     "metadata": {},
     "output_type": "execute_result"
    }
   ],
   "source": [
    "#Checking the structure of the data again\n",
    "df.head()"
   ]
  },
  {
   "cell_type": "code",
   "execution_count": 61,
   "metadata": {},
   "outputs": [],
   "source": [
    "#Dropping the rows that have null values in the genres\n",
    "df.dropna(axis=0,subset=['genres'],inplace=True)"
   ]
  },
  {
   "cell_type": "code",
   "execution_count": 62,
   "metadata": {},
   "outputs": [
    {
     "name": "stdout",
     "output_type": "stream",
     "text": [
      "<class 'pandas.core.frame.DataFrame'>\n",
      "Int64Index: 10842 entries, 0 to 10865\n",
      "Data columns (total 9 columns):\n",
      "popularity              10842 non-null float64\n",
      "original_title          10842 non-null object\n",
      "cast                    10767 non-null object\n",
      "genres                  10842 non-null object\n",
      "production_companies    9826 non-null object\n",
      "vote_average            10842 non-null float64\n",
      "release_year            10842 non-null int64\n",
      "budget_adj              10842 non-null float64\n",
      "revenue_adj             10842 non-null float64\n",
      "dtypes: float64(4), int64(1), object(4)\n",
      "memory usage: 847.0+ KB\n"
     ]
    }
   ],
   "source": [
    "#Checking the info\n",
    "df.info()"
   ]
  },
  {
   "cell_type": "code",
   "execution_count": 63,
   "metadata": {},
   "outputs": [],
   "source": [
    "#Dropping null values in production companies\n",
    "df.dropna(axis=0,subset=['production_companies'],inplace=True)"
   ]
  },
  {
   "cell_type": "code",
   "execution_count": 64,
   "metadata": {},
   "outputs": [
    {
     "name": "stdout",
     "output_type": "stream",
     "text": [
      "<class 'pandas.core.frame.DataFrame'>\n",
      "Int64Index: 9826 entries, 0 to 10865\n",
      "Data columns (total 9 columns):\n",
      "popularity              9826 non-null float64\n",
      "original_title          9826 non-null object\n",
      "cast                    9791 non-null object\n",
      "genres                  9826 non-null object\n",
      "production_companies    9826 non-null object\n",
      "vote_average            9826 non-null float64\n",
      "release_year            9826 non-null int64\n",
      "budget_adj              9826 non-null float64\n",
      "revenue_adj             9826 non-null float64\n",
      "dtypes: float64(4), int64(1), object(4)\n",
      "memory usage: 767.7+ KB\n"
     ]
    }
   ],
   "source": [
    "#Checking the info\n",
    "df.info()"
   ]
  },
  {
   "cell_type": "code",
   "execution_count": 65,
   "metadata": {},
   "outputs": [],
   "source": [
    "#Dropping the null values in the cast\n",
    "df.dropna(axis=0,subset=['cast'],inplace=True)"
   ]
  },
  {
   "cell_type": "code",
   "execution_count": 66,
   "metadata": {},
   "outputs": [
    {
     "name": "stdout",
     "output_type": "stream",
     "text": [
      "<class 'pandas.core.frame.DataFrame'>\n",
      "Int64Index: 9791 entries, 0 to 10865\n",
      "Data columns (total 9 columns):\n",
      "popularity              9791 non-null float64\n",
      "original_title          9791 non-null object\n",
      "cast                    9791 non-null object\n",
      "genres                  9791 non-null object\n",
      "production_companies    9791 non-null object\n",
      "vote_average            9791 non-null float64\n",
      "release_year            9791 non-null int64\n",
      "budget_adj              9791 non-null float64\n",
      "revenue_adj             9791 non-null float64\n",
      "dtypes: float64(4), int64(1), object(4)\n",
      "memory usage: 764.9+ KB\n"
     ]
    }
   ],
   "source": [
    "#Checking the info\n",
    "df.info()"
   ]
  },
  {
   "cell_type": "code",
   "execution_count": 67,
   "metadata": {},
   "outputs": [
    {
     "data": {
      "text/plain": [
       "0              Action|Adventure|Science Fiction|Thriller\n",
       "1              Action|Adventure|Science Fiction|Thriller\n",
       "2                     Adventure|Science Fiction|Thriller\n",
       "3               Action|Adventure|Science Fiction|Fantasy\n",
       "4                                  Action|Crime|Thriller\n",
       "5                       Western|Drama|Adventure|Thriller\n",
       "6              Science Fiction|Action|Thriller|Adventure\n",
       "7                        Drama|Adventure|Science Fiction\n",
       "8                      Family|Animation|Adventure|Comedy\n",
       "9                                Comedy|Animation|Family\n",
       "10                                Action|Adventure|Crime\n",
       "11              Science Fiction|Fantasy|Action|Adventure\n",
       "12                                 Drama|Science Fiction\n",
       "13                         Action|Comedy|Science Fiction\n",
       "14                      Action|Adventure|Science Fiction\n",
       "15                           Crime|Drama|Mystery|Western\n",
       "16                                 Crime|Action|Thriller\n",
       "17                      Science Fiction|Action|Adventure\n",
       "18                          Romance|Fantasy|Family|Drama\n",
       "19                         War|Adventure|Science Fiction\n",
       "20       Action|Family|Science Fiction|Adventure|Mystery\n",
       "21                                          Action|Drama\n",
       "22                                 Action|Drama|Thriller\n",
       "23                                         Drama|Romance\n",
       "24                                          Comedy|Drama\n",
       "25                                                Action\n",
       "26                                                Comedy\n",
       "27                         Crime|Comedy|Action|Adventure\n",
       "28                                Drama|Thriller|History\n",
       "29                       Action|Science Fiction|Thriller\n",
       "                              ...                       \n",
       "10834                                     Action|Western\n",
       "10835                 Action|Adventure|Drama|War|Romance\n",
       "10836                                     Comedy|Romance\n",
       "10837                         War|Action|Adventure|Drama\n",
       "10838                           Action|Adventure|Western\n",
       "10839                                   Family|Animation\n",
       "10840                                           Thriller\n",
       "10841                                            Western\n",
       "10843                 Adventure|Drama|War|History|Action\n",
       "10844           Adventure|Comedy|Fantasy|Science Fiction\n",
       "10845                                     Comedy|Western\n",
       "10846                                             Horror\n",
       "10847                             Science Fiction|Horror\n",
       "10848                          Adventure|Science Fiction\n",
       "10849                                Action|Comedy|Crime\n",
       "10850                Action|Drama|Thriller|Crime|Mystery\n",
       "10851              Adventure|Drama|Action|Family|Foreign\n",
       "10852                                            Western\n",
       "10854                               Thriller|Drama|Crime\n",
       "10855                      Comedy|Family|Mystery|Romance\n",
       "10856                                Comedy|Drama|Family\n",
       "10857                                     Action|Western\n",
       "10858                                         Comedy|War\n",
       "10859             Mystery|Science Fiction|Thriller|Drama\n",
       "10860                                             Comedy\n",
       "10861                                        Documentary\n",
       "10862                             Action|Adventure|Drama\n",
       "10863                                     Mystery|Comedy\n",
       "10864                                      Action|Comedy\n",
       "10865                                             Horror\n",
       "Name: genres, Length: 9791, dtype: object"
      ]
     },
     "execution_count": 67,
     "metadata": {},
     "output_type": "execute_result"
    }
   ],
   "source": [
    "#Converting the genres to string from object\n",
    "df['genres'].astype(str)"
   ]
  },
  {
   "cell_type": "code",
   "execution_count": 68,
   "metadata": {},
   "outputs": [
    {
     "data": {
      "text/plain": [
       "0        Universal Studios|Amblin Entertainment|Legenda...\n",
       "1        Village Roadshow Pictures|Kennedy Miller Produ...\n",
       "2        Summit Entertainment|Mandeville Films|Red Wago...\n",
       "3                Lucasfilm|Truenorth Productions|Bad Robot\n",
       "4        Universal Pictures|Original Film|Media Rights ...\n",
       "5        Regency Enterprises|Appian Way|CatchPlay|Anony...\n",
       "6                  Paramount Pictures|Skydance Productions\n",
       "7        Twentieth Century Fox Film Corporation|Scott F...\n",
       "8            Universal Pictures|Illumination Entertainment\n",
       "9        Walt Disney Pictures|Pixar Animation Studios|W...\n",
       "10                            Columbia Pictures|Danjaq|B24\n",
       "11       Village Roadshow Pictures|Dune Entertainment|A...\n",
       "12       DNA Films|Universal Pictures International (UP...\n",
       "13             Columbia Pictures|Happy Madison Productions\n",
       "14       Marvel Studios|Prime Focus|Revolution Sun Studios\n",
       "15       Double Feature Films|The Weinstein Company|Fil...\n",
       "16       Twentieth Century Fox Film Corporation|M6 Film...\n",
       "17                                          Marvel Studios\n",
       "18       Walt Disney Pictures|Genre Films|Beagle Pug Fi...\n",
       "19       Studio Babelsberg|StudioCanal|Lionsgate|Walt D...\n",
       "20                       Walt Disney Pictures|Babieka|A113\n",
       "21                 Escape Artists|Riche-Ludwig Productions\n",
       "22       New Line Cinema|Village Roadshow Pictures|Warn...\n",
       "23       Focus Features|Trigger Street Productions|Mich...\n",
       "24       Paramount Pictures|Plan B Entertainment|Regenc...\n",
       "25       Paramount Pictures|Skydance Productions|China ...\n",
       "26       Universal Pictures|Media Rights Capital|Fuzzy ...\n",
       "27       Twentieth Century Fox Film Corporation|Marv Fi...\n",
       "28       Participant Media|Open Road Films|Anonymous Co...\n",
       "29       Gotham Group|Temple Hill Entertainment|TSG Ent...\n",
       "                               ...                        \n",
       "10834       C.B. Films S.A.|The Mirisch Production Company\n",
       "10835    Twentieth Century Fox Film Corporation|Solar P...\n",
       "10836                        Columbia Pictures Corporation\n",
       "10837               Twentieth Century Fox Film Corporation\n",
       "10838                                    Columbia Pictures\n",
       "10839                              Warner Bros. Home Video\n",
       "10840                          Lowndes Productions Limited\n",
       "10841                                        Proteus Films\n",
       "10843                    Julian Blaustein Productions Ltd.\n",
       "10844                                     20th Century Fox\n",
       "10845                             Peter Rogers Productions\n",
       "10846       Seven Arts Productions|Hammer Film Productions\n",
       "10847                     Planet Film Productions|Protelco\n",
       "10848               Twentieth Century Fox Film Corporation\n",
       "10849                                   Universal Pictures\n",
       "10850                                         Warner Bros.\n",
       "10851                                            High Road\n",
       "10852                                Eden Productions Inc.\n",
       "10854       Horizon Pictures|Columbia Pictures Corporation\n",
       "10855                                   Universal Pictures\n",
       "10856                                 Walt Disney Pictures\n",
       "10857    Paramount Pictures|Solar Productions|Embassy P...\n",
       "10858                              The Mirisch Corporation\n",
       "10859    Gibraltar Productions|Joel Productions|John Fr...\n",
       "10860    Peter Rogers Productions|Anglo-Amalgamated Fil...\n",
       "10861                                    Bruce Brown Films\n",
       "10862    Cherokee Productions|Joel Productions|Douglas ...\n",
       "10863                                              Mosfilm\n",
       "10864                              Benedict Pictures Corp.\n",
       "10865                                            Norm-Iris\n",
       "Name: production_companies, Length: 9791, dtype: object"
      ]
     },
     "execution_count": 68,
     "metadata": {},
     "output_type": "execute_result"
    }
   ],
   "source": [
    "#converting production companies to String\n",
    "df['production_companies'].astype(str)"
   ]
  },
  {
   "cell_type": "code",
   "execution_count": 98,
   "metadata": {},
   "outputs": [
    {
     "data": {
      "image/png": "[encoded data removed]",
      "text/plain": [
       "<matplotlib.figure.Figure at 0x7faa58974e48>"
      ]
     },
     "metadata": {
      "needs_background": "light"
     },
     "output_type": "display_data"
    }
   ],
   "source": [
    "#Plotting the ratings to see its distribution\n",
    "\n",
    "plt.figure(figsize=(10,10))\n",
    "plt.xlabel('Ratings of the Movies', fontsize = 10)\n",
    "#On y-axis \n",
    "plt.ylabel('Count', fontsize=10)\n",
    "#Name of the graph\n",
    "plt.title('The distribution of ratings of all the movies', fontsize=10)\n",
    "plt.hist(df['vote_average'], rwidth = 0.9, bins =35)\n",
    "plt.show()\n"
   ]
  },
  {
   "cell_type": "markdown",
   "metadata": {},
   "source": [
    "    The distribution appears to be skewed towards the left.\n",
    "    From this we may conclude that most of the movies are rated between 5 to 7. Almost 800 movies fall into this category."
   ]
  },
  {
   "cell_type": "code",
   "execution_count": 70,
   "metadata": {},
   "outputs": [
    {
     "data": {
      "image/png": "[encoded data removed]",
      "text/plain": [
       "<matplotlib.figure.Figure at 0x7faa54ed7f98>"
      ]
     },
     "metadata": {
      "needs_background": "light"
     },
     "output_type": "display_data"
    }
   ],
   "source": [
    "import seaborn as sns\n",
    "plt.figure(figsize=(10,10))\n",
    "sns.boxplot(df['vote_average'], linewidth = 3)\n",
    "plt.show()\n"
   ]
  },
  {
   "cell_type": "markdown",
   "metadata": {},
   "source": [
    "    From the boxplot we can see that there are a few outliers in the data."
   ]
  },
  {
   "cell_type": "code",
   "execution_count": 71,
   "metadata": {},
   "outputs": [
    {
     "data": {
      "image/png": "[encoded data removed]",
      "text/plain": [
       "<matplotlib.figure.Figure at 0x7faa54ec1780>"
      ]
     },
     "metadata": {
      "needs_background": "light"
     },
     "output_type": "display_data"
    }
   ],
   "source": [
    "plt.figure(figsize=(10,10))\n",
    "sns.violinplot(df['vote_average'], linewidth = 3)\n",
    "plt.show()"
   ]
  },
  {
   "cell_type": "code",
   "execution_count": 72,
   "metadata": {},
   "outputs": [],
   "source": [
    "#Since genres,production comapnies and cast have multiple entries\n",
    "df_copy=df "
   ]
  },
  {
   "cell_type": "code",
   "execution_count": 73,
   "metadata": {},
   "outputs": [],
   "source": [
    "#splitting the multiple entries \n",
    "split_columns = ['genres','production_companies','cast']\n",
    "\n",
    "\n",
    "for c in split_columns:\n",
    "    df_copy[c] = df_copy[c].apply(lambda x: x.split(\"|\")[0])\n",
    "    "
   ]
  },
  {
   "cell_type": "code",
   "execution_count": 74,
   "metadata": {},
   "outputs": [
    {
     "data": {
      "text/html": [
       "<div>\n",
       "<style scoped>\n",
       "    .dataframe tbody tr th:only-of-type {\n",
       "        vertical-align: middle;\n",
       "    }\n",
       "\n",
       "    .dataframe tbody tr th {\n",
       "        vertical-align: top;\n",
       "    }\n",
       "\n",
       "    .dataframe thead th {\n",
       "        text-align: right;\n",
       "    }\n",
       "</style>\n",
       "<table border=\"1\" class=\"dataframe\">\n",
       "  <thead>\n",
       "    <tr style=\"text-align: right;\">\n",
       "      <th></th>\n",
       "      <th>popularity</th>\n",
       "      <th>original_title</th>\n",
       "      <th>cast</th>\n",
       "      <th>genres</th>\n",
       "      <th>production_companies</th>\n",
       "      <th>vote_average</th>\n",
       "      <th>release_year</th>\n",
       "      <th>budget_adj</th>\n",
       "      <th>revenue_adj</th>\n",
       "    </tr>\n",
       "  </thead>\n",
       "  <tbody>\n",
       "    <tr>\n",
       "      <th>0</th>\n",
       "      <td>32.985763</td>\n",
       "      <td>Jurassic World</td>\n",
       "      <td>Chris Pratt</td>\n",
       "      <td>Action</td>\n",
       "      <td>Universal Studios</td>\n",
       "      <td>6.5</td>\n",
       "      <td>2015</td>\n",
       "      <td>1.379999e+08</td>\n",
       "      <td>1.392446e+09</td>\n",
       "    </tr>\n",
       "    <tr>\n",
       "      <th>1</th>\n",
       "      <td>28.419936</td>\n",
       "      <td>Mad Max: Fury Road</td>\n",
       "      <td>Tom Hardy</td>\n",
       "      <td>Action</td>\n",
       "      <td>Village Roadshow Pictures</td>\n",
       "      <td>7.1</td>\n",
       "      <td>2015</td>\n",
       "      <td>1.379999e+08</td>\n",
       "      <td>3.481613e+08</td>\n",
       "    </tr>\n",
       "    <tr>\n",
       "      <th>2</th>\n",
       "      <td>13.112507</td>\n",
       "      <td>Insurgent</td>\n",
       "      <td>Shailene Woodley</td>\n",
       "      <td>Adventure</td>\n",
       "      <td>Summit Entertainment</td>\n",
       "      <td>6.3</td>\n",
       "      <td>2015</td>\n",
       "      <td>1.012000e+08</td>\n",
       "      <td>2.716190e+08</td>\n",
       "    </tr>\n",
       "    <tr>\n",
       "      <th>3</th>\n",
       "      <td>11.173104</td>\n",
       "      <td>Star Wars: The Force Awakens</td>\n",
       "      <td>Harrison Ford</td>\n",
       "      <td>Action</td>\n",
       "      <td>Lucasfilm</td>\n",
       "      <td>7.5</td>\n",
       "      <td>2015</td>\n",
       "      <td>1.839999e+08</td>\n",
       "      <td>1.902723e+09</td>\n",
       "    </tr>\n",
       "    <tr>\n",
       "      <th>4</th>\n",
       "      <td>9.335014</td>\n",
       "      <td>Furious 7</td>\n",
       "      <td>Vin Diesel</td>\n",
       "      <td>Action</td>\n",
       "      <td>Universal Pictures</td>\n",
       "      <td>7.3</td>\n",
       "      <td>2015</td>\n",
       "      <td>1.747999e+08</td>\n",
       "      <td>1.385749e+09</td>\n",
       "    </tr>\n",
       "  </tbody>\n",
       "</table>\n",
       "</div>"
      ],
      "text/plain": [
       "   popularity                original_title              cast     genres  \\\n",
       "0   32.985763                Jurassic World       Chris Pratt     Action   \n",
       "1   28.419936            Mad Max: Fury Road         Tom Hardy     Action   \n",
       "2   13.112507                     Insurgent  Shailene Woodley  Adventure   \n",
       "3   11.173104  Star Wars: The Force Awakens     Harrison Ford     Action   \n",
       "4    9.335014                     Furious 7        Vin Diesel     Action   \n",
       "\n",
       "        production_companies  vote_average  release_year    budget_adj  \\\n",
       "0          Universal Studios           6.5          2015  1.379999e+08   \n",
       "1  Village Roadshow Pictures           7.1          2015  1.379999e+08   \n",
       "2       Summit Entertainment           6.3          2015  1.012000e+08   \n",
       "3                  Lucasfilm           7.5          2015  1.839999e+08   \n",
       "4         Universal Pictures           7.3          2015  1.747999e+08   \n",
       "\n",
       "    revenue_adj  \n",
       "0  1.392446e+09  \n",
       "1  3.481613e+08  \n",
       "2  2.716190e+08  \n",
       "3  1.902723e+09  \n",
       "4  1.385749e+09  "
      ]
     },
     "execution_count": 74,
     "metadata": {},
     "output_type": "execute_result"
    }
   ],
   "source": [
    "df=df_copy\n",
    "df.head()\n"
   ]
  },
  {
   "cell_type": "code",
   "execution_count": 100,
   "metadata": {},
   "outputs": [
    {
     "data": {
      "image/png": "[encoded data removed]",
      "text/plain": [
       "<matplotlib.figure.Figure at 0x7faa543e35f8>"
      ]
     },
     "metadata": {
      "needs_background": "light"
     },
     "output_type": "display_data"
    }
   ],
   "source": [
    "act_rat = df.groupby('release_year')['popularity'].sum()\n",
    "plt.figure(figsize=(15,15))\n",
    "plt.xlabel('Year of Release', fontsize = 20)\n",
    "plt.ylabel('Popularity', fontsize = 20)\n",
    "plt.title('Representing the popularity of the movies each year.',fontsize=20)\n",
    "plt.plot(act_rat)\n",
    "plt.show()"
   ]
  },
  {
   "cell_type": "markdown",
   "metadata": {},
   "source": [
    "    Seems the popularity of the movies kept increasing by the year. This may be due to the increase in means of advertisements which is made possible by the advancement in communication media."
   ]
  },
  {
   "cell_type": "markdown",
   "metadata": {},
   "source": [
    "<a id='eda'></a>\n",
    "## Exploratory Data Analysis\n",
    "\n",
    "\n",
    "\n"
   ]
  },
  {
   "cell_type": "code",
   "execution_count": 76,
   "metadata": {},
   "outputs": [],
   "source": [
    "#Defining a function to calculate details of independant and the dependant variable\n",
    "def details(column_name):\n",
    "    \n",
    "    highest= df[column_name].idxmax()\n",
    "    print('The movie with the highest {} is {}'.format(column_name,df['original_title'].loc[highest]))\n",
    "    \n",
    "    least= df[column_name].idxmin()\n",
    "    print('The movie with the least {} is {}'.format(column_name,df['original_title'].loc[least]))\n",
    "    \n"
   ]
  },
  {
   "cell_type": "markdown",
   "metadata": {},
   "source": [
    "    Question 1: Which movies have the highest and the least revenue?"
   ]
  },
  {
   "cell_type": "code",
   "execution_count": 77,
   "metadata": {},
   "outputs": [
    {
     "name": "stdout",
     "output_type": "stream",
     "text": [
      "The movie with the highest revenue_adj is Avatar\n",
      "The movie with the least revenue_adj is Wild Card\n"
     ]
    }
   ],
   "source": [
    "#Exploring the revenue\n",
    "details('revenue_adj')"
   ]
  },
  {
   "cell_type": "markdown",
   "metadata": {},
   "source": [
    "    Question 2: Which movies have the highest and the least ratings?"
   ]
  },
  {
   "cell_type": "code",
   "execution_count": 78,
   "metadata": {},
   "outputs": [
    {
     "name": "stdout",
     "output_type": "stream",
     "text": [
      "The movie with the highest vote_average is Pink Floyd: Pulse\n",
      "The movie with the least vote_average is Transmorphers\n"
     ]
    }
   ],
   "source": [
    "#Exploring the ratings\n",
    "details('vote_average')"
   ]
  },
  {
   "cell_type": "markdown",
   "metadata": {},
   "source": [
    "    Question 4: Which movies have the highest and the least budget?"
   ]
  },
  {
   "cell_type": "code",
   "execution_count": 79,
   "metadata": {},
   "outputs": [
    {
     "name": "stdout",
     "output_type": "stream",
     "text": [
      "The movie with the highest budget_adj is The Warrior's Way\n",
      "The movie with the least budget_adj is Mr. Holmes\n"
     ]
    }
   ],
   "source": [
    "#Exploring the budget\n",
    "details('budget_adj')"
   ]
  },
  {
   "cell_type": "markdown",
   "metadata": {},
   "source": [
    "    Question 5: Which movies have the highest and the least popularity"
   ]
  },
  {
   "cell_type": "code",
   "execution_count": 80,
   "metadata": {},
   "outputs": [
    {
     "name": "stdout",
     "output_type": "stream",
     "text": [
      "The movie with the highest popularity is Jurassic World\n",
      "The movie with the least popularity is The Hospital\n"
     ]
    }
   ],
   "source": [
    "#Exploring the popularity\n",
    "details('popularity')"
   ]
  },
  {
   "cell_type": "code",
   "execution_count": 81,
   "metadata": {},
   "outputs": [],
   "source": [
    "#Exploring the properties of the movies that generated a high revenue\n",
    "#We will thus consider the movies that have generated a revenue greater than the mean\n",
    "threshold=df['revenue_adj'].mean()"
   ]
  },
  {
   "cell_type": "code",
   "execution_count": 82,
   "metadata": {},
   "outputs": [],
   "source": [
    "new_df=df[df['revenue_adj']>=threshold]"
   ]
  },
  {
   "cell_type": "code",
   "execution_count": 83,
   "metadata": {},
   "outputs": [
    {
     "data": {
      "text/html": [
       "<div>\n",
       "<style scoped>\n",
       "    .dataframe tbody tr th:only-of-type {\n",
       "        vertical-align: middle;\n",
       "    }\n",
       "\n",
       "    .dataframe tbody tr th {\n",
       "        vertical-align: top;\n",
       "    }\n",
       "\n",
       "    .dataframe thead th {\n",
       "        text-align: right;\n",
       "    }\n",
       "</style>\n",
       "<table border=\"1\" class=\"dataframe\">\n",
       "  <thead>\n",
       "    <tr style=\"text-align: right;\">\n",
       "      <th></th>\n",
       "      <th>popularity</th>\n",
       "      <th>original_title</th>\n",
       "      <th>cast</th>\n",
       "      <th>genres</th>\n",
       "      <th>production_companies</th>\n",
       "      <th>vote_average</th>\n",
       "      <th>release_year</th>\n",
       "      <th>budget_adj</th>\n",
       "      <th>revenue_adj</th>\n",
       "    </tr>\n",
       "  </thead>\n",
       "  <tbody>\n",
       "    <tr>\n",
       "      <th>0</th>\n",
       "      <td>32.985763</td>\n",
       "      <td>Jurassic World</td>\n",
       "      <td>Chris Pratt</td>\n",
       "      <td>Action</td>\n",
       "      <td>Universal Studios</td>\n",
       "      <td>6.5</td>\n",
       "      <td>2015</td>\n",
       "      <td>1.379999e+08</td>\n",
       "      <td>1.392446e+09</td>\n",
       "    </tr>\n",
       "    <tr>\n",
       "      <th>1</th>\n",
       "      <td>28.419936</td>\n",
       "      <td>Mad Max: Fury Road</td>\n",
       "      <td>Tom Hardy</td>\n",
       "      <td>Action</td>\n",
       "      <td>Village Roadshow Pictures</td>\n",
       "      <td>7.1</td>\n",
       "      <td>2015</td>\n",
       "      <td>1.379999e+08</td>\n",
       "      <td>3.481613e+08</td>\n",
       "    </tr>\n",
       "    <tr>\n",
       "      <th>2</th>\n",
       "      <td>13.112507</td>\n",
       "      <td>Insurgent</td>\n",
       "      <td>Shailene Woodley</td>\n",
       "      <td>Adventure</td>\n",
       "      <td>Summit Entertainment</td>\n",
       "      <td>6.3</td>\n",
       "      <td>2015</td>\n",
       "      <td>1.012000e+08</td>\n",
       "      <td>2.716190e+08</td>\n",
       "    </tr>\n",
       "    <tr>\n",
       "      <th>3</th>\n",
       "      <td>11.173104</td>\n",
       "      <td>Star Wars: The Force Awakens</td>\n",
       "      <td>Harrison Ford</td>\n",
       "      <td>Action</td>\n",
       "      <td>Lucasfilm</td>\n",
       "      <td>7.5</td>\n",
       "      <td>2015</td>\n",
       "      <td>1.839999e+08</td>\n",
       "      <td>1.902723e+09</td>\n",
       "    </tr>\n",
       "    <tr>\n",
       "      <th>4</th>\n",
       "      <td>9.335014</td>\n",
       "      <td>Furious 7</td>\n",
       "      <td>Vin Diesel</td>\n",
       "      <td>Action</td>\n",
       "      <td>Universal Pictures</td>\n",
       "      <td>7.3</td>\n",
       "      <td>2015</td>\n",
       "      <td>1.747999e+08</td>\n",
       "      <td>1.385749e+09</td>\n",
       "    </tr>\n",
       "  </tbody>\n",
       "</table>\n",
       "</div>"
      ],
      "text/plain": [
       "   popularity                original_title              cast     genres  \\\n",
       "0   32.985763                Jurassic World       Chris Pratt     Action   \n",
       "1   28.419936            Mad Max: Fury Road         Tom Hardy     Action   \n",
       "2   13.112507                     Insurgent  Shailene Woodley  Adventure   \n",
       "3   11.173104  Star Wars: The Force Awakens     Harrison Ford     Action   \n",
       "4    9.335014                     Furious 7        Vin Diesel     Action   \n",
       "\n",
       "        production_companies  vote_average  release_year    budget_adj  \\\n",
       "0          Universal Studios           6.5          2015  1.379999e+08   \n",
       "1  Village Roadshow Pictures           7.1          2015  1.379999e+08   \n",
       "2       Summit Entertainment           6.3          2015  1.012000e+08   \n",
       "3                  Lucasfilm           7.5          2015  1.839999e+08   \n",
       "4         Universal Pictures           7.3          2015  1.747999e+08   \n",
       "\n",
       "    revenue_adj  \n",
       "0  1.392446e+09  \n",
       "1  3.481613e+08  \n",
       "2  2.716190e+08  \n",
       "3  1.902723e+09  \n",
       "4  1.385749e+09  "
      ]
     },
     "execution_count": 83,
     "metadata": {},
     "output_type": "execute_result"
    }
   ],
   "source": [
    "new_df.head()"
   ]
  },
  {
   "cell_type": "code",
   "execution_count": 84,
   "metadata": {},
   "outputs": [
    {
     "data": {
      "text/plain": [
       "(2165, 9)"
      ]
     },
     "execution_count": 84,
     "metadata": {},
     "output_type": "execute_result"
    }
   ],
   "source": [
    "new_df.shape"
   ]
  },
  {
   "cell_type": "code",
   "execution_count": 85,
   "metadata": {},
   "outputs": [],
   "source": [
    "#function to check the properties of the movies with the highest revenue\n",
    "def properties(column_name):\n",
    "    properties_list=new_df[column_name].value_counts()\n",
    "    print(\"The {} associated with the movies of maximum revenue is {} with a count of {}\".format(column_name,properties_list.idxmax(),properties_list.max()))\n",
    "    print(\"The others are:\")\n",
    "    print(properties_list.head())\n"
   ]
  },
  {
   "cell_type": "markdown",
   "metadata": {},
   "source": [
    "        Question 5: Which genres are associated with movies that generate a high income?"
   ]
  },
  {
   "cell_type": "code",
   "execution_count": 86,
   "metadata": {},
   "outputs": [
    {
     "name": "stdout",
     "output_type": "stream",
     "text": [
      "The genres associated with the movies of maximum revenue is Comedy with a count of 438\n",
      "The others are:\n",
      "Comedy       438\n",
      "Action       427\n",
      "Drama        394\n",
      "Adventure    243\n",
      "Horror       124\n",
      "Name: genres, dtype: int64\n"
     ]
    }
   ],
   "source": [
    "#genre associated with maximum revenue\n",
    "properties('genres')"
   ]
  },
  {
   "cell_type": "markdown",
   "metadata": {},
   "source": [
    "    Question 6: Which production companies are associated with movies that generate a high income"
   ]
  },
  {
   "cell_type": "code",
   "execution_count": 87,
   "metadata": {},
   "outputs": [
    {
     "name": "stdout",
     "output_type": "stream",
     "text": [
      "The production_companies associated with the movies of maximum revenue is Universal Pictures with a count of 216\n",
      "The others are:\n",
      "Universal Pictures                        216\n",
      "Paramount Pictures                        209\n",
      "Columbia Pictures                         145\n",
      "Twentieth Century Fox Film Corporation    137\n",
      "Walt Disney Pictures                      102\n",
      "Name: production_companies, dtype: int64\n"
     ]
    }
   ],
   "source": [
    "#production companies associated with maximum revenue\n",
    "properties('production_companies')"
   ]
  },
  {
   "cell_type": "markdown",
   "metadata": {},
   "source": [
    "    Question 8: Which cast are associated with movies that generate a high income"
   ]
  },
  {
   "cell_type": "code",
   "execution_count": 88,
   "metadata": {},
   "outputs": [
    {
     "name": "stdout",
     "output_type": "stream",
     "text": [
      "The cast associated with the movies of maximum revenue is Tom Hanks with a count of 28\n",
      "The others are:\n",
      "Tom Hanks             28\n",
      "Bruce Willis          25\n",
      "Tom Cruise            25\n",
      "Sylvester Stallone    23\n",
      "Denzel Washington     23\n",
      "Name: cast, dtype: int64\n"
     ]
    }
   ],
   "source": [
    "#cast associated with maximum revenue\n",
    "properties('cast')"
   ]
  },
  {
   "cell_type": "markdown",
   "metadata": {},
   "source": [
    "    Question 8: Which production comapnies are investing most on their budget? "
   ]
  },
  {
   "cell_type": "code",
   "execution_count": 89,
   "metadata": {},
   "outputs": [],
   "source": [
    "#Which production companies are associated with investing most on their budget\n",
    "#Select the mean of the budget from new_df\n",
    "budget_mean=new_df['budget_adj'].mean()"
   ]
  },
  {
   "cell_type": "code",
   "execution_count": 90,
   "metadata": {},
   "outputs": [],
   "source": [
    "#Create a new database with the budget greater than the mean\n",
    "new_df_1=new_df[new_df['budget_adj']>budget_mean]"
   ]
  },
  {
   "cell_type": "code",
   "execution_count": 91,
   "metadata": {},
   "outputs": [
    {
     "name": "stdout",
     "output_type": "stream",
     "text": [
      "The production_companies associated with the movies of a high budget is Paramount Pictures with a count of 94\n",
      "The others are:\n",
      "Paramount Pictures                        94\n",
      "Universal Pictures                        84\n",
      "Columbia Pictures                         72\n",
      "Walt Disney Pictures                      62\n",
      "Twentieth Century Fox Film Corporation    49\n",
      "Name: production_companies, dtype: int64\n"
     ]
    },
    {
     "data": {
      "text/plain": [
       "Paramount Pictures                        94\n",
       "Universal Pictures                        84\n",
       "Columbia Pictures                         72\n",
       "Walt Disney Pictures                      62\n",
       "Twentieth Century Fox Film Corporation    49\n",
       "Village Roadshow Pictures                 35\n",
       "DreamWorks SKG                            32\n",
       "Name: production_companies, dtype: int64"
      ]
     },
     "execution_count": 91,
     "metadata": {},
     "output_type": "execute_result"
    }
   ],
   "source": [
    "#finding the production companies associated with more budget\n",
    "def properties1(column_name):\n",
    "    properties_list=pd.Series(new_df_1[column_name].value_counts())\n",
    "    print(\"The {} associated with the movies of a high budget is {} with a count of {}\".format(column_name,properties_list.idxmax(),properties_list.max()))\n",
    "    print(\"The others are:\")\n",
    "    print(properties_list.head())\n",
    "    return properties_list.head(7)\n",
    "properties1('production_companies')"
   ]
  },
  {
   "cell_type": "code",
   "execution_count": 92,
   "metadata": {},
   "outputs": [],
   "source": [
    "#Defining a function to convert result to series to help with plotting\n",
    "def communication(column_name):\n",
    "    properties_list=pd.Series(new_df[column_name].value_counts())\n",
    "    return properties_list.head()\n"
   ]
  },
  {
   "cell_type": "code",
   "execution_count": 93,
   "metadata": {},
   "outputs": [
    {
     "data": {
      "image/png": "[encoded data removed]",
      "text/plain": [
       "<matplotlib.figure.Figure at 0x7faa55f72c88>"
      ]
     },
     "metadata": {
      "needs_background": "light"
     },
     "output_type": "display_data"
    }
   ],
   "source": [
    "#The production companies associated with high revenue\n",
    "companies=communication('production_companies')\n",
    "figure1=companies.plot(kind='bar',title='Production Companies Associated with the movies of high revenue');\n",
    "figure1.set_xlabel('Production Companies')\n",
    "figure1.set_ylabel('Count')\n",
    "figure1.figure.set_size_inches(20,20)"
   ]
  },
  {
   "cell_type": "markdown",
   "metadata": {},
   "source": [
    "    From this plot we can see that these production comapnies have produced movies with a high revenue."
   ]
  },
  {
   "cell_type": "code",
   "execution_count": 94,
   "metadata": {},
   "outputs": [
    {
     "data": {
      "image/png": "[encoded data removed]",
      "text/plain": [
       "<matplotlib.figure.Figure at 0x7faa56494cf8>"
      ]
     },
     "metadata": {
      "needs_background": "light"
     },
     "output_type": "display_data"
    }
   ],
   "source": [
    "#Communicating the Findings\n",
    "#The genres associated with the high revenue films\n",
    "genres=communication('genres')\n",
    "figure2=genres.plot(kind='bar',title='Genres Associated with the movies of high revenue');\n",
    "figure2.set_xlabel('Genres')\n",
    "figure2.set_ylabel('Count')\n",
    "figure2.figure.set_size_inches(20,20)"
   ]
  },
  {
   "cell_type": "markdown",
   "metadata": {},
   "source": [
    "    From this plot we can see that these five genres have collected most revenue when employed in movies."
   ]
  },
  {
   "cell_type": "code",
   "execution_count": 95,
   "metadata": {},
   "outputs": [
    {
     "data": {
      "image/png": "[encoded data removed]",
      "text/plain": [
       "<matplotlib.figure.Figure at 0x7faa58809e80>"
      ]
     },
     "metadata": {
      "needs_background": "light"
     },
     "output_type": "display_data"
    }
   ],
   "source": [
    "#The cast associated with the movies generating maximum revenue\n",
    "cast=communication('cast')\n",
    "figure3=cast.plot(kind='bar',title='Cast Associated with the movies of high revenue');\n",
    "figure3.set_xlabel('Cast')\n",
    "figure3.set_ylabel('Count')\n",
    "figure3.figure.set_size_inches(20,20)"
   ]
  },
  {
   "cell_type": "markdown",
   "metadata": {},
   "source": [
    "    From this plot we can notice that these actors have frequently appeared in movies that generated a high revenue."
   ]
  },
  {
   "cell_type": "code",
   "execution_count": 96,
   "metadata": {},
   "outputs": [
    {
     "name": "stdout",
     "output_type": "stream",
     "text": [
      "The production_companies associated with the movies of a high budget is Paramount Pictures with a count of 94\n",
      "The others are:\n",
      "Paramount Pictures                        94\n",
      "Universal Pictures                        84\n",
      "Columbia Pictures                         72\n",
      "Walt Disney Pictures                      62\n",
      "Twentieth Century Fox Film Corporation    49\n",
      "Name: production_companies, dtype: int64\n"
     ]
    },
    {
     "data": {
      "image/png": "[encoded data removed]",
      "text/plain": [
       "<matplotlib.figure.Figure at 0x7faa58d1b588>"
      ]
     },
     "metadata": {
      "needs_background": "light"
     },
     "output_type": "display_data"
    }
   ],
   "source": [
    "#production companies associated with maximum budget\n",
    "prod_budget=properties1('production_companies')\n",
    "figure3=prod_budget.plot(kind='bar',title='Production Comapanies that invest most in their budget');\n",
    "figure3.set_xlabel('Production Companies')\n",
    "figure3.set_ylabel('Count')\n",
    "figure3.figure.set_size_inches(20,20)\n"
   ]
  },
  {
   "cell_type": "markdown",
   "metadata": {},
   "source": [
    "    From this plot it can be seen that these production companies invest most in their budgets."
   ]
  },
  {
   "cell_type": "markdown",
   "metadata": {},
   "source": [
    "<a id='conclusions'></a>\n",
    "## Conclusions\n",
    "    #LIMITATIONS\n",
    "       -A lot of data points had to be removed because of null values in several columns that were key to the analysis.\n",
    "       Since the columns that were key to the analysis had a lot null values in their data points they had to be deleted which resulted in the decrease of the total number of data points.\n",
    "       -The analysis has been done only on the movies that generated a revenue greater than the average revenue generated.\n",
    "       Taking the average as the threshold for the analysis may not be the most optimal but since no threshold was given this seemed to be the most reasonable base.\n",
    "       \n",
    "\n",
    "    #CONCLUSIONS\n",
    "    -Comedy seems to be a profitable genre as it has collected the most revenue in this dataset.\n",
    "    -Actors like Tom Hanks and Bruce willis seem to be in movies that generate a lot of income.\n",
    "    -Universal studios and Paramount pictures seem to generate a lot of income.\n",
    "    -Paramount pictures seem to be investing a lot of money in their budgets."
   ]
  },
  {
   "cell_type": "code",
   "execution_count": 97,
   "metadata": {},
   "outputs": [
    {
     "data": {
      "text/plain": [
       "0"
      ]
     },
     "execution_count": 97,
     "metadata": {},
     "output_type": "execute_result"
    }
   ],
   "source": [
    "from subprocess import call\n",
    "call(['python', '-m', 'nbconvert', 'Investigate_a_Dataset.ipynb'])"
   ]
  },
  {
   "cell_type": "code",
   "execution_count": null,
   "metadata": {},
   "outputs": [],
   "source": []
  }
 ],
 "metadata": {
  "kernelspec": {
   "display_name": "Python 3",
   "language": "python",
   "name": "python3"
  },
  "language_info": {
   "codemirror_mode": {
    "name": "ipython",
    "version": 3
   },
   "file_extension": ".py",
   "mimetype": "text/x-python",
   "name": "python",
   "nbconvert_exporter": "python",
   "pygments_lexer": "ipython3",
   "version": "3.6.3"
  }
 },
 "nbformat": 4,
 "nbformat_minor": 2
}
